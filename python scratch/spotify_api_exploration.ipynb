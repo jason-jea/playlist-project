{
 "cells": [
  {
   "cell_type": "code",
   "execution_count": 65,
   "metadata": {
    "collapsed": true
   },
   "outputs": [
    {
     "name": "stdout",
     "output_type": "stream",
     "text": [
      "https://api.spotify.com/v1/users/breakurjea/playlists/4kG6NbZEDC8m3EMRBWzetV/tracks\n[u'album', u'artists', u'available_markets', u'disc_number', u'duration_ms', u'explicit', u'external_ids', u'external_urls', u'href', u'id', u'name', u'popularity', u'preview_url', u'track_number', u'type', u'uri']\n0     https://api.spotify.com/v1/tracks/42tBlHWL3VfD...\n1     https://api.spotify.com/v1/tracks/4sEnZad9gvLS...\n2     https://api.spotify.com/v1/tracks/1ZuQVisBNDRm...\n3     https://api.spotify.com/v1/tracks/4x3gJSZ2CeyG...\n4     https://api.spotify.com/v1/tracks/6MTA4AwgmjVA...\n5     https://api.spotify.com/v1/tracks/5Kkmnf0Xi1pv...\n6     https://api.spotify.com/v1/tracks/1CKhx6sSkUxz...\n7     https://api.spotify.com/v1/tracks/2WVsyRWVM6xy...\n8     https://api.spotify.com/v1/tracks/6bMLXWNukxfi...\n9     https://api.spotify.com/v1/tracks/7ujucw8kFBPI...\n10    https://api.spotify.com/v1/tracks/3zAjkGy22FCX...\n11    https://api.spotify.com/v1/tracks/7sJ7zlySCbRw...\n12    https://api.spotify.com/v1/tracks/2DgMxFMUQRPt...\n13    https://api.spotify.com/v1/tracks/4zbb4mISfck5...\n14    https://api.spotify.com/v1/tracks/6C1wn08cac9w...\n15    https://api.spotify.com/v1/tracks/66dQdXAbtuPd...\nName: href, dtype: object\n                                        external_urls  \\\n0   {u'spotify': u'https://open.spotify.com/artist...   \n1   {u'spotify': u'https://open.spotify.com/artist...   \n2   {u'spotify': u'https://open.spotify.com/artist...   \n3   {u'spotify': u'https://open.spotify.com/artist...   \n4   {u'spotify': u'https://open.spotify.com/artist...   \n5   {u'spotify': u'https://open.spotify.com/artist...   \n6   {u'spotify': u'https://open.spotify.com/artist...   \n7   {u'spotify': u'https://open.spotify.com/artist...   \n8   {u'spotify': u'https://open.spotify.com/artist...   \n9   {u'spotify': u'https://open.spotify.com/artist...   \n10  {u'spotify': u'https://open.spotify.com/artist...   \n11  {u'spotify': u'https://open.spotify.com/artist...   \n12  {u'spotify': u'https://open.spotify.com/artist...   \n13  {u'spotify': u'https://open.spotify.com/artist...   \n14  {u'spotify': u'https://open.spotify.com/artist...   \n15  {u'spotify': u'https://open.spotify.com/artist...   \n\n                                                 href                      id  \\\n0   https://api.spotify.com/v1/artists/1Bl6wpkWCQ4...  1Bl6wpkWCQ4KVgnASpvzzA   \n1   https://api.spotify.com/v1/artists/1Bl6wpkWCQ4...  1Bl6wpkWCQ4KVgnASpvzzA   \n2   https://api.spotify.com/v1/artists/1Bl6wpkWCQ4...  1Bl6wpkWCQ4KVgnASpvzzA   \n3   https://api.spotify.com/v1/artists/1Bl6wpkWCQ4...  1Bl6wpkWCQ4KVgnASpvzzA   \n4   https://api.spotify.com/v1/artists/1Bl6wpkWCQ4...  1Bl6wpkWCQ4KVgnASpvzzA   \n5   https://api.spotify.com/v1/artists/1Bl6wpkWCQ4...  1Bl6wpkWCQ4KVgnASpvzzA   \n6   https://api.spotify.com/v1/artists/1Bl6wpkWCQ4...  1Bl6wpkWCQ4KVgnASpvzzA   \n7   https://api.spotify.com/v1/artists/1Bl6wpkWCQ4...  1Bl6wpkWCQ4KVgnASpvzzA   \n8   https://api.spotify.com/v1/artists/1Bl6wpkWCQ4...  1Bl6wpkWCQ4KVgnASpvzzA   \n9   https://api.spotify.com/v1/artists/1Bl6wpkWCQ4...  1Bl6wpkWCQ4KVgnASpvzzA   \n10  https://api.spotify.com/v1/artists/1Bl6wpkWCQ4...  1Bl6wpkWCQ4KVgnASpvzzA   \n11  https://api.spotify.com/v1/artists/1Bl6wpkWCQ4...  1Bl6wpkWCQ4KVgnASpvzzA   \n12  https://api.spotify.com/v1/artists/1Bl6wpkWCQ4...  1Bl6wpkWCQ4KVgnASpvzzA   \n13  https://api.spotify.com/v1/artists/1Bl6wpkWCQ4...  1Bl6wpkWCQ4KVgnASpvzzA   \n14  https://api.spotify.com/v1/artists/1Bl6wpkWCQ4...  1Bl6wpkWCQ4KVgnASpvzzA   \n15  https://api.spotify.com/v1/artists/1Bl6wpkWCQ4...  1Bl6wpkWCQ4KVgnASpvzzA   \n\n            name    type                                    uri  \n0   BROCKHAMPTON  artist  spotify:artist:1Bl6wpkWCQ4KVgnASpvzzA  \n1   BROCKHAMPTON  artist  spotify:artist:1Bl6wpkWCQ4KVgnASpvzzA  \n2   BROCKHAMPTON  artist  spotify:artist:1Bl6wpkWCQ4KVgnASpvzzA  \n3   BROCKHAMPTON  artist  spotify:artist:1Bl6wpkWCQ4KVgnASpvzzA  \n4   BROCKHAMPTON  artist  spotify:artist:1Bl6wpkWCQ4KVgnASpvzzA  \n5   BROCKHAMPTON  artist  spotify:artist:1Bl6wpkWCQ4KVgnASpvzzA  \n6   BROCKHAMPTON  artist  spotify:artist:1Bl6wpkWCQ4KVgnASpvzzA  \n7   BROCKHAMPTON  artist  spotify:artist:1Bl6wpkWCQ4KVgnASpvzzA  \n8   BROCKHAMPTON  artist  spotify:artist:1Bl6wpkWCQ4KVgnASpvzzA  \n9   BROCKHAMPTON  artist  spotify:artist:1Bl6wpkWCQ4KVgnASpvzzA  \n10  BROCKHAMPTON  artist  spotify:artist:1Bl6wpkWCQ4KVgnASpvzzA  \n11  BROCKHAMPTON  artist  spotify:artist:1Bl6wpkWCQ4KVgnASpvzzA  \n12  BROCKHAMPTON  artist  spotify:artist:1Bl6wpkWCQ4KVgnASpvzzA  \n13  BROCKHAMPTON  artist  spotify:artist:1Bl6wpkWCQ4KVgnASpvzzA  \n14  BROCKHAMPTON  artist  spotify:artist:1Bl6wpkWCQ4KVgnASpvzzA  \n15  BROCKHAMPTON  artist  spotify:artist:1Bl6wpkWCQ4KVgnASpvzzA  \n"
     ]
    }
   ],
   "source": [
    "import requests\n",
    "import base64\n",
    "import json\n",
    "import pandas\n",
    "import os\n",
    "import webbrowser\n",
    "import urllib\n",
    "\n",
    "def get_token(code, client_id, client_secret, redirect_uri):\n",
    "    url = 'https://accounts.spotify.com/api/token'\n",
    "    payload = {\n",
    "        'grant_type': 'authorization_code',\n",
    "        'code': code,\n",
    "        'redirect_uri': redirect_uri\n",
    "    }\n",
    "    headers = {\n",
    "        'Authorization': 'Basic ' + base64.b64encode(client_id + ':' + client_secret)\n",
    "    }\n",
    "\n",
    "    data = requests.post(url=url, data=payload, headers=headers)\n",
    "    data = json.loads(data.text)\n",
    "\n",
    "    access_token = data['access_token']\n",
    "\n",
    "    return access_token\n",
    "\n",
    "\n",
    "def get_playlists():\n",
    "    url = 'https://api.spotify.com/v1/me/playlists'\n",
    "\n",
    "    limit = 50\n",
    "    offset = 0\n",
    "    params = {'limit': limit,\n",
    "              'offset': offset\n",
    "              }\n",
    "    data = requests.get(url=url, headers=header, params=params)\n",
    "    playlist_data = json.loads(data.text)\n",
    "\n",
    "    playlists = playlist_data['items']\n",
    "\n",
    "    while playlist_data['next'] is not None:\n",
    "        offset = offset + limit\n",
    "        params = {'limit': limit,\n",
    "                  'offset': offset}\n",
    "        data = requests.get(url=url, headers=header, params=params)\n",
    "        playlist_data = json.loads(data.text)\n",
    "        playlists = playlists + playlist_data['items']\n",
    "\n",
    "    return playlists\n",
    "\n",
    "\n",
    "token = 'BQBrAoyBjtjzOT26vdDL5fyKQ5CKKNnpTGfM5Mcjt-yiDHshaqyMXR3BeP46MYslTIZdWbMfBj9z8mw6ktsUwt0xg5oQRqvRfmLP--V4fS58FtU79au1eOCpPxVFUetKCnXwDYkyqt_aB6flutN5S4XzKr2JEccCQ20'\n",
    "header = {'Authorization': 'Bearer ' + token}\n",
    "\n",
    "playlists = get_playlists()\n",
    "\n",
    "playlist = playlists[0]\n",
    "name = playlist['name']\n",
    "collaborative = playlist['collaborative']\n",
    "uri = playlist['uri']\n",
    "track_href = playlist['tracks']['href']\n",
    "playlist_id = playlist['id']\n",
    "user_id = playlist['owner']['id']\n",
    "\n",
    "url = 'https://api.spotify.com/v1/users/' + user_id + '/playlists/' + playlist_id + '/tracks'\n",
    "limit = 100\n",
    "offset = 0\n",
    "params = {'limit': limit,\n",
    "          'offset': offset\n",
    "          }\n",
    "data = requests.get(url=url, headers=header, params=params)\n",
    "track_data = json.loads(data.text)\n",
    "df = pandas.DataFrame(track_data['items'])\n",
    "track_info = pandas.DataFrame(df['track'].tolist())\n",
    "track_endpoints = track_info['href']\n",
    "artists = track_info[['artists']].apply(lambda x: x[0], 1)['artists'].apply(pandas.Series)\n",
    "print url\n",
    "print list(track_info.columns.values)\n",
    "print track_endpoints\n",
    "print artists"
   ]
  },
  {
   "cell_type": "code",
   "execution_count": 8,
   "metadata": {},
   "outputs": [
    {
     "ename": "NameError",
     "evalue": "global name 'playlist' is not defined",
     "traceback": [
      "\u001b[0;31m\u001b[0m",
      "\u001b[0;31mNameError\u001b[0mTraceback (most recent call last)",
      "\u001b[0;32m<ipython-input-8-a31fd00f837f>\u001b[0m in \u001b[0;36m<module>\u001b[0;34m()\u001b[0m\n\u001b[1;32m      6\u001b[0m \u001b[0mheader\u001b[0m \u001b[0;34m=\u001b[0m \u001b[0;34m{\u001b[0m\u001b[0;34m'Authorization'\u001b[0m\u001b[0;34m:\u001b[0m \u001b[0;34m'Bearer '\u001b[0m \u001b[0;34m+\u001b[0m \u001b[0mtoken\u001b[0m\u001b[0;34m}\u001b[0m\u001b[0;34m\u001b[0m\u001b[0m\n\u001b[1;32m      7\u001b[0m \u001b[0;34m\u001b[0m\u001b[0m\n\u001b[0;32m----> 8\u001b[0;31m \u001b[0mplaylists\u001b[0m \u001b[0;34m=\u001b[0m \u001b[0mget_playlists\u001b[0m\u001b[0;34m(\u001b[0m\u001b[0;34m)\u001b[0m\u001b[0;34m\u001b[0m\u001b[0m\n\u001b[0m\u001b[1;32m      9\u001b[0m \u001b[0;34m\u001b[0m\u001b[0m\n\u001b[1;32m     10\u001b[0m \u001b[0mplaylist\u001b[0m \u001b[0;34m=\u001b[0m \u001b[0mplaylists\u001b[0m\u001b[0;34m[\u001b[0m\u001b[0;36m0\u001b[0m\u001b[0;34m]\u001b[0m\u001b[0;34m\u001b[0m\u001b[0m\n",
      "\u001b[0;32m<ipython-input-1-71a989256951>\u001b[0m in \u001b[0;36mget_playlists\u001b[0;34m()\u001b[0m\n\u001b[1;32m     69\u001b[0m         \u001b[0mplaylists\u001b[0m \u001b[0;34m=\u001b[0m \u001b[0mplaylists\u001b[0m \u001b[0;34m+\u001b[0m \u001b[0mplaylist_data\u001b[0m\u001b[0;34m[\u001b[0m\u001b[0;34m'items'\u001b[0m\u001b[0;34m]\u001b[0m\u001b[0;34m\u001b[0m\u001b[0m\n\u001b[1;32m     70\u001b[0m \u001b[0;34m\u001b[0m\u001b[0m\n\u001b[0;32m---> 71\u001b[0;31m     \u001b[0;32mreturn\u001b[0m \u001b[0mplaylist\u001b[0m\u001b[0;34m\u001b[0m\u001b[0m\n\u001b[0m\u001b[1;32m     72\u001b[0m \u001b[0;34m\u001b[0m\u001b[0m\n",
      "\u001b[0;31mNameError\u001b[0m: global name 'playlist' is not defined"
     ],
     "output_type": "error"
    }
   ],
   "source": [
    ""
   ]
  },
  {
   "cell_type": "code",
   "execution_count": null,
   "metadata": {},
   "outputs": [],
   "source": []
  }
 ],
 "metadata": {
  "kernelspec": {
   "display_name": "Python 2",
   "language": "python",
   "name": "python2"
  },
  "language_info": {
   "codemirror_mode": {
    "name": "ipython",
    "version": 2
   },
   "file_extension": ".py",
   "mimetype": "text/x-python",
   "name": "python",
   "nbconvert_exporter": "python",
   "pygments_lexer": "ipython2",
   "version": "2.7.6"
  }
 },
 "nbformat": 4,
 "nbformat_minor": 0
}
