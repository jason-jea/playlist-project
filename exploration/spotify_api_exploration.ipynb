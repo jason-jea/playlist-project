{
 "cells": [
  {
   "cell_type": "code",
   "execution_count": 114,
   "metadata": {
    "collapsed": true
   },
   "outputs": [],
   "source": [
    "import requests\n",
    "import base64\n",
    "import json\n",
    "import pandas\n",
    "import os\n",
    "import webbrowser\n",
    "import urllib\n",
    "\n",
    "\n",
    "def get_code(client_id, redirect_uri, scopes):\n",
    "    params = {'response_type': 'code',\n",
    "              'redirect_uri': redirect_uri,\n",
    "              'client_id': client_id,\n",
    "              'scope': scopes}\n",
    "    url = 'https://accounts.spotify.com/authorize'\n",
    "    requests.get(url=url, params=params)\n",
    "\n",
    "    auth_url = url + '?' + urllib.urlencode(params)\n",
    "    webbrowser.open(auth_url)\n",
    "\n",
    "    try:\n",
    "        response = raw_input(\"Enter the URL you were redirected to: \")\n",
    "    except NameError:\n",
    "        response = input(\"Enter the URL you were redirected to: \")\n",
    "\n",
    "    code = response\n",
    "\n",
    "    return code\n",
    "\n",
    "\n",
    "def get_token(code, client_id, client_secret, redirect_uri):\n",
    "    url = 'https://accounts.spotify.com/api/token'\n",
    "    payload = {\n",
    "        'grant_type': 'authorization_code',\n",
    "        'code': code,\n",
    "        'redirect_uri': redirect_uri\n",
    "    }\n",
    "    headers = {\n",
    "        'Authorization': 'Basic ' + base64.b64encode(client_id + ':' + client_secret)\n",
    "    }\n",
    "\n",
    "    data = requests.post(url=url, data=payload, headers=headers)\n",
    "    data = json.loads(data.text)\n",
    "\n",
    "    access_token = data['access_token']\n",
    "\n",
    "    return access_token\n",
    "\n",
    "\n",
    "def get_playlists():\n",
    "    url = 'https://api.spotify.com/v1/me/playlists'\n",
    "\n",
    "    limit = 50\n",
    "    offset = 0\n",
    "    params = {'limit': limit,\n",
    "              'offset': offset\n",
    "              }\n",
    "    data = requests.get(url=url, headers=header, params=params)\n",
    "    playlist_data = json.loads(data.text)\n",
    "\n",
    "    playlists = playlist_data['items']\n",
    "\n",
    "    while playlist_data['next'] is not None:\n",
    "        offset = offset + limit\n",
    "        params = {'limit': limit,\n",
    "                  'offset': offset}\n",
    "        data = requests.get(url=url, headers=header, params=params)\n",
    "        playlist_data = json.loads(data.text)\n",
    "        playlists = playlists + playlist_data['items']\n",
    "\n",
    "    return playlists\n",
    "\n",
    "\n",
    "def get_playlist_tracks(user_id, playlist_id):\n",
    "    url = 'https://api.spotify.com/v1/users/' + user_id + '/playlists/' + playlist_id + '/tracks'\n",
    "    limit = 100\n",
    "    offset = 0\n",
    "    params = {'limit': limit,\n",
    "              'offset': offset\n",
    "              }\n",
    "    data = requests.get(url=url, headers=header, params=params)\n",
    "    track_data = json.loads(data.text)\n",
    "    df = pandas.DataFrame(track_data['items'])\n",
    "\n",
    "    if df.empty:\n",
    "        return df\n",
    "    else:\n",
    "        track_info = pandas.DataFrame(df['track'].tolist())\n",
    "\n",
    "        tracks = track_info[['id', 'name']]\n",
    "        artists = track_info[['artists']].apply(lambda x: x[0][0]['name'], 1)\n",
    "        tracks.loc[:, 'artist'] = artists\n",
    "        return tracks\n",
    "\n",
    "\n",
    "def get_track_info(track_ids):\n",
    "    url = 'https://api.spotify.com/v1/audio-features'\n",
    "    tracks = \",\".join(track_ids)\n",
    "    params = {\n",
    "        'ids': tracks\n",
    "    }\n",
    "    data = requests.get(url, params=params, headers=header)\n",
    "    feature_data = pandas.DataFrame(json.loads(data.text)['audio_features'])\n",
    "    return feature_data\n",
    "\n",
    "\n",
    "\n",
    "token = 'BQBffAWiAdAf12UeMLOOvLvnWwQq7Y1Z2HI5TA2WiUMDDkZrxoYJXBwAAZ2n22XrlRuGGLB1ptcLdn6JWplsYyRcSdz6B3hTbSdfYsek2o1zfcATr6PKNZPhnllsUkjXPa-_5pvbm9XyQtNhirbMlbRcRG3TMFQ'\n",
    "\n",
    "global header\n",
    "header = {'Authorization': 'Bearer ' + token}\n",
    "\n",
    "playlists = get_playlists()\n",
    "\n",
    "\n"
   ]
  },
  {
   "cell_type": "code",
   "execution_count": 109,
   "metadata": {},
   "outputs": [
    {
     "name": "stdout",
     "output_type": "stream",
     "text": [
      "{u'name': u'Kanye West \\u2013 The Life of Pablo', u'collaborative': False, u'external_urls': {u'spotify': u'http://open.spotify.com/user/breakurjea/playlist/76xuHTl8iWuFTOAI5JVvSc'}, u'uri': u'spotify:user:breakurjea:playlist:76xuHTl8iWuFTOAI5JVvSc', u'public': True, u'owner': {u'display_name': u'Jason Jea', u'external_urls': {u'spotify': u'http://open.spotify.com/user/breakurjea'}, u'uri': u'spotify:user:breakurjea', u'href': u'https://api.spotify.com/v1/users/breakurjea', u'type': u'user', u'id': u'breakurjea'}, u'tracks': {u'total': 18, u'href': u'https://api.spotify.com/v1/users/breakurjea/playlists/76xuHTl8iWuFTOAI5JVvSc/tracks'}, u'href': u'https://api.spotify.com/v1/users/breakurjea/playlists/76xuHTl8iWuFTOAI5JVvSc', u'snapshot_id': u'o37pU6iVB5r9oJsyL1e8lYWwnmLzEzCaqteSiIzmk9LsvDNVGWxmahjXDG9K1Oc3', u'images': [], u'type': u'playlist', u'id': u'76xuHTl8iWuFTOAI5JVvSc'}\n"
     ]
    }
   ],
   "source": [
    "print playlists[18]\n",
    "playlist = playlists[18]\n"
   ]
  },
  {
   "cell_type": "code",
   "execution_count": 110,
   "metadata": {
    "collapsed": false
   },
   "outputs": [
    {
     "name": "stdout",
     "output_type": "stream",
     "text": [
      "76xuHTl8iWuFTOAI5JVvSc\nbreakurjea\nKanye West – The Life of Pablo\n"
     ]
    }
   ],
   "source": [
    "playlist_id = playlist['id']\n",
    "user_id = playlist['owner']['id']\n",
    "playlist_name = playlist['name']\n",
    "print playlist_id\n",
    "print user_id\n",
    "print playlist_name"
   ]
  },
  {
   "cell_type": "code",
   "execution_count": 112,
   "metadata": {},
   "outputs": [
    {
     "name": "stdout",
     "output_type": "stream",
     "text": [
      "Empty DataFrame\nColumns: []\nIndex: []\nTrue\n"
     ]
    }
   ],
   "source": [
    "playlist_id = '1oMEu0h82SQ4Y4Ci9kbNSB'\n",
    "user_id = 'breakurjea'\n",
    "\n",
    "url = 'https://api.spotify.com/v1/users/' + user_id + '/playlists/' + playlist_id + '/tracks'\n",
    "limit = 100\n",
    "offset = 0\n",
    "params = {'limit': limit,\n",
    "          'offset': offset\n",
    "          }\n",
    "data = requests.get(url=url, headers=header, params=params)\n",
    "track_data = json.loads(data.text)\n",
    "df = pandas.DataFrame(track_data['items'])\n",
    "print df\n",
    "print df.empty"
   ]
  },
  {
   "cell_type": "code",
   "execution_count": 120,
   "metadata": {},
   "outputs": [
    {
     "name": "stdout",
     "output_type": "stream",
     "text": [
      "4kG6NbZEDC8m3EMRBWzetV breakurjea\n"
     ]
    },
    {
     "name": "stdout",
     "output_type": "stream",
     "text": [
      "18juKaFUHN2AhIJuM0Ld3e 12120302035\n"
     ]
    },
    {
     "name": "stdout",
     "output_type": "stream",
     "text": [
      "43QuYFqJD86yV9Wj2toWVI breakurjea\n"
     ]
    },
    {
     "name": "stdout",
     "output_type": "stream",
     "text": [
      "4zFgFtQEJGVJKIezHAtyO2 breakurjea\n"
     ]
    },
    {
     "name": "stdout",
     "output_type": "stream",
     "text": [
      "18Ql3C2pOvWYcZxM2swadn breakurjea\n"
     ]
    },
    {
     "name": "stdout",
     "output_type": "stream",
     "text": [
      "70KRdEOo5I5zbzQcO1RYhf euniii\n"
     ]
    },
    {
     "name": "stdout",
     "output_type": "stream",
     "text": [
      "5F896ewkFpHxJgYZKT8yeQ breakurjea\n"
     ]
    },
    {
     "name": "stdout",
     "output_type": "stream",
     "text": [
      "37i9dQZEVXbfmWRAOaQ91x spotify\n"
     ]
    },
    {
     "name": "stdout",
     "output_type": "stream",
     "text": [
      "6bHlAGsmQWocG7JHMfQ7J8 126370029\n"
     ]
    },
    {
     "name": "stdout",
     "output_type": "stream",
     "text": [
      "0SzGpogOVgSFKVFdoUYPEb euniii\n"
     ]
    },
    {
     "name": "stdout",
     "output_type": "stream",
     "text": [
      "6l042e1BJzk1a3qjDP3UJu breakurjea\n"
     ]
    },
    {
     "name": "stdout",
     "output_type": "stream",
     "text": [
      "59sIlUIcBs2EA74kxeuPZS euniii\n"
     ]
    },
    {
     "name": "stdout",
     "output_type": "stream",
     "text": [
      "0rVJ9NLyfeV1sirSC2Uepe breakurjea\n"
     ]
    },
    {
     "name": "stdout",
     "output_type": "stream",
     "text": [
      "2lUoH0qTLuEgdWQfiRVVB3 constab3\n"
     ]
    },
    {
     "name": "stdout",
     "output_type": "stream",
     "text": [
      "7Df5vVlgn8clNazstjNuo0 breakurjea\n"
     ]
    },
    {
     "name": "stdout",
     "output_type": "stream",
     "text": [
      "13Tb3NystUUF8GGzoMacw7 breakurjea\n"
     ]
    },
    {
     "name": "stdout",
     "output_type": "stream",
     "text": [
      "37i9dQZEVXcEQUJGEGZRni spotify\n"
     ]
    },
    {
     "name": "stdout",
     "output_type": "stream",
     "text": [
      "1X0i6ZK3sg52aihZ7OouaW breakurjea\n"
     ]
    },
    {
     "name": "stdout",
     "output_type": "stream",
     "text": [
      "76xuHTl8iWuFTOAI5JVvSc breakurjea\n"
     ]
    },
    {
     "name": "stdout",
     "output_type": "stream",
     "text": [
      "1ENypvvi6pcghkuHcaayph masterofnonetv\n"
     ]
    },
    {
     "name": "stdout",
     "output_type": "stream",
     "text": [
      "1VVAx35405KagLpCNFxofZ breakurjea\n"
     ]
    },
    {
     "name": "stdout",
     "output_type": "stream",
     "text": [
      "00t3advFCWJGdn1X4JCnkI breakurjea\n"
     ]
    },
    {
     "name": "stdout",
     "output_type": "stream",
     "text": [
      "7pfVovfZwCUsF8UAonj5Uo breakurjea\n"
     ]
    },
    {
     "name": "stdout",
     "output_type": "stream",
     "text": [
      "7EICSK18zwOJ4cz7xq5JaV donutb\n"
     ]
    },
    {
     "name": "stdout",
     "output_type": "stream",
     "text": [
      "3UBMqzl7gHX72iYT6TikEp donutb\n"
     ]
    },
    {
     "name": "stdout",
     "output_type": "stream",
     "text": [
      "433mlBx9MiufJNVxwg7uPc donutb\n"
     ]
    },
    {
     "name": "stdout",
     "output_type": "stream",
     "text": [
      "0IiUIcizKVC6Gi7wSx6rEM breakurjea\n"
     ]
    },
    {
     "name": "stdout",
     "output_type": "stream",
     "text": [
      "1cXKB8K4SQeIRQ5MqElA2f 121223910\n"
     ]
    },
    {
     "name": "stdout",
     "output_type": "stream",
     "text": [
      "55voE2bfNYJiSstZDcXExB breakurjea\n"
     ]
    },
    {
     "name": "stdout",
     "output_type": "stream",
     "text": [
      "0LtnE9khecUWlBFT4TEnN7 breakurjea\n"
     ]
    },
    {
     "name": "stdout",
     "output_type": "stream",
     "text": [
      "4OdgrORo1B4xmXv9QHpt9w 1211849252\n"
     ]
    },
    {
     "name": "stdout",
     "output_type": "stream",
     "text": [
      "514T9ZYxd5TKUQoRB3F1rf 1211849252\n"
     ]
    },
    {
     "name": "stdout",
     "output_type": "stream",
     "text": [
      "30kjurdQuMRACNaJysrS7f breakurjea\n"
     ]
    },
    {
     "name": "stdout",
     "output_type": "stream",
     "text": [
      "3KcpBAzTekb9CjILDsTngM breakurjea\n"
     ]
    },
    {
     "name": "stdout",
     "output_type": "stream",
     "text": [
      "0GPDoaXI3ai4mkUZl8z9CX breakurjea\n"
     ]
    },
    {
     "name": "stdout",
     "output_type": "stream",
     "text": [
      "4NfdXPPQkmTe0sZRPM04kO breakurjea\n"
     ]
    },
    {
     "name": "stdout",
     "output_type": "stream",
     "text": [
      "3py2JII9LJ1M9yygjfXPm6 breakurjea\n"
     ]
    },
    {
     "name": "stdout",
     "output_type": "stream",
     "text": [
      "0lAhP9ZqBtPmv5ddXOmsJj breakurjea\n"
     ]
    },
    {
     "name": "stdout",
     "output_type": "stream",
     "text": [
      "3z9m22pOzKD8bzbvkq82He retailmenot\n"
     ]
    },
    {
     "name": "stdout",
     "output_type": "stream",
     "text": [
      "3iAWPnHfO2JDRfXjeQOXoz breakurjea\n"
     ]
    },
    {
     "name": "stdout",
     "output_type": "stream",
     "text": [
      "6Oq5tTCt1v5qv6dKGmZmpt breakurjea\n"
     ]
    },
    {
     "name": "stdout",
     "output_type": "stream",
     "text": [
      "4Oa8uVz1cMS86HYjbGGOAo breakurjea\n"
     ]
    },
    {
     "name": "stdout",
     "output_type": "stream",
     "text": [
      "26NIzBPb5ZgIgRojwkGAyZ breakurjea\n"
     ]
    },
    {
     "name": "stdout",
     "output_type": "stream",
     "text": [
      "2oNbjFIQohRzThf1pHxW8R breakurjea\n"
     ]
    },
    {
     "name": "stdout",
     "output_type": "stream",
     "text": [
      "5Wsm2WfluIhjGNUuy3psYj bhargavinaustin\n"
     ]
    },
    {
     "name": "stdout",
     "output_type": "stream",
     "text": [
      "7kSSPt0XPkVA7Hh3sVYfie breakurjea\n"
     ]
    },
    {
     "name": "stdout",
     "output_type": "stream",
     "text": [
      "24pT2GhqmPxU3p5sxyT8h4 breakurjea\n"
     ]
    },
    {
     "name": "stdout",
     "output_type": "stream",
     "text": [
      "6jV3M0ED9mqubcylCMnHsY breakurjea\n"
     ]
    },
    {
     "name": "stdout",
     "output_type": "stream",
     "text": [
      "3h4dkCppui3h3w8rUbqSF2 breakurjea\n"
     ]
    },
    {
     "name": "stdout",
     "output_type": "stream",
     "text": [
      "3RWKBn0s2qASqufzC23mY7 breakurjea\n"
     ]
    },
    {
     "name": "stdout",
     "output_type": "stream",
     "text": [
      "3OSlx5JXKEOj5P9WVWiS7V breakurjea\n"
     ]
    },
    {
     "name": "stdout",
     "output_type": "stream",
     "text": [
      "3ApgA6em5wjQCxOnkdGR29 breakurjea\n"
     ]
    },
    {
     "name": "stdout",
     "output_type": "stream",
     "text": [
      "6ADYgRJS0mXKQXP4VTRiJu breakurjea\n"
     ]
    },
    {
     "name": "stdout",
     "output_type": "stream",
     "text": [
      "0TDAR11LtpOiHES1AJpIKi breakurjea\n"
     ]
    },
    {
     "name": "stdout",
     "output_type": "stream",
     "text": [
      "5k6WOg7DwnZsGzssFlt4t7 breakurjea\n"
     ]
    },
    {
     "name": "stdout",
     "output_type": "stream",
     "text": [
      "7kKpFPVeUuUv83FErYKpKy breakurjea\n"
     ]
    },
    {
     "name": "stdout",
     "output_type": "stream",
     "text": [
      "6uw5AwJI0UxkqSnfqwUgrO breakurjea\n"
     ]
    },
    {
     "name": "stdout",
     "output_type": "stream",
     "text": [
      "5hrH88ygp3XZeBuyjhQHY0 breakurjea\n"
     ]
    },
    {
     "name": "stdout",
     "output_type": "stream",
     "text": [
      "3kk1jsYCnPbD8vF3wwCwf9 breakurjea\n"
     ]
    },
    {
     "name": "stdout",
     "output_type": "stream",
     "text": [
      "1xSVmQUDH6d7bWCrBGX9AA breakurjea\n"
     ]
    },
    {
     "name": "stdout",
     "output_type": "stream",
     "text": [
      "11b94t6HVGlNlNuhup4xJr breakurjea\n"
     ]
    },
    {
     "name": "stdout",
     "output_type": "stream",
     "text": [
      "1uQ71pDfD8t8oHmygOHw2f breakurjea\n"
     ]
    },
    {
     "name": "stdout",
     "output_type": "stream",
     "text": [
      "0BoTFAjzDmbBChblKVRAie breakurjea\n"
     ]
    },
    {
     "name": "stdout",
     "output_type": "stream",
     "text": [
      "1vKM5ErdwaM7AQJD41DMSU breakurjea\n"
     ]
    },
    {
     "name": "stdout",
     "output_type": "stream",
     "text": [
      "55lm0NBz5Q0TVMyWQ6Mbtb breakurjea\n"
     ]
    },
    {
     "name": "stdout",
     "output_type": "stream",
     "text": [
      "4YBfiGp1fvMgVdgaEk6gB6 breakurjea\n"
     ]
    },
    {
     "name": "stdout",
     "output_type": "stream",
     "text": [
      "4AKkVMfQNCWnYs1bJfFddD breakurjea\n"
     ]
    },
    {
     "name": "stdout",
     "output_type": "stream",
     "text": [
      "1vmP72NR3dp5FTiEw8d6QH breakurjea\n"
     ]
    },
    {
     "name": "stdout",
     "output_type": "stream",
     "text": [
      "7Gvm0aYM87cDOHEn9brYm5 breakurjea\n"
     ]
    },
    {
     "name": "stdout",
     "output_type": "stream",
     "text": [
      "7EwUlAeQjadklOtA54GAo6 breakurjea\n"
     ]
    },
    {
     "name": "stdout",
     "output_type": "stream",
     "text": [
      "0gUNo3qrSII3KWchIzSaxZ breakurjea\n"
     ]
    },
    {
     "name": "stdout",
     "output_type": "stream",
     "text": [
      "0yveIWutnqwFsC4oWxllvJ breakurjea\n"
     ]
    },
    {
     "name": "stdout",
     "output_type": "stream",
     "text": [
      "75wsYv0KRX6GNIx6d1xfle avermat\n"
     ]
    },
    {
     "name": "stdout",
     "output_type": "stream",
     "text": [
      "4K0qkuZHlKVOmds9IdSinR sxspotify\n"
     ]
    },
    {
     "name": "stdout",
     "output_type": "stream",
     "text": [
      "4AzzNQdgvxsVVtg7ubAH6E eversonmarsh\n"
     ]
    },
    {
     "name": "stdout",
     "output_type": "stream",
     "text": [
      "43elpAVWa2hzVkmoVqVFBU kentaloupe\n"
     ]
    },
    {
     "name": "stdout",
     "output_type": "stream",
     "text": [
      "4pPyuO3itVCqzRbHRjn1jL breakurjea\n"
     ]
    },
    {
     "name": "stdout",
     "output_type": "stream",
     "text": [
      "3ecHZUj44zwEiDL7BSYPzu breakurjea\n"
     ]
    },
    {
     "name": "stdout",
     "output_type": "stream",
     "text": [
      "1oMEu0h82SQ4Y4Ci9kbNSB breakurjea\n"
     ]
    }
   ],
   "source": [
    "playlist_track_data = pandas.DataFrame(columns=['acousticness', 'analysis_url', 'danceability', 'duration_ms',\n",
    "                                                    'energy', 'track_id', 'instrumentalness', 'key', 'liveness',\n",
    "                                                    'loudness', 'mode', 'speechiness', 'tempo', 'time_signature',\n",
    "                                                    'track_href', 'type', 'uri', 'valence', 'playlist_name',\n",
    "                                                    'playlist_id', 'user_id'])\n",
    "\n",
    "for playlist in playlists:\n",
    "    playlist_id = playlist['id']\n",
    "    playlist_name = playlist['name']\n",
    "    user_id = playlist['owner']['id']\n",
    "\n",
    "    print playlist_id, user_id\n",
    "\n",
    "    tracks = get_playlist_tracks(user_id=user_id, playlist_id=playlist_id)\n",
    "    if tracks.empty:\n",
    "        continue\n",
    "\n",
    "    tracks = tracks[tracks['id'].notnull()]\n",
    "    if tracks.empty:\n",
    "        continue\n",
    "\n",
    "    track_features = get_track_info(tracks['id'])\n",
    "\n",
    "    track_features.loc[:, 'playlist_name'] = playlist_name\n",
    "    track_features.loc[:, 'playlist_id'] = playlist_id\n",
    "    track_features.loc[:, 'user_id'] = user_id\n",
    "    track_features = track_features.rename(columns={'id': 'track_id'})\n",
    "\n",
    "    playlist_track_data = playlist_track_data.append(track_features)"
   ]
  },
  {
   "cell_type": "code",
   "execution_count": 93,
   "metadata": {},
   "outputs": [
    {
     "name": "stdout",
     "output_type": "stream",
     "text": [
      "                                                album  \\\n0   {u'album_type': None, u'name': u'The Life of P...   \n1   {u'album_type': None, u'name': u'The Life of P...   \n2   {u'album_type': None, u'name': u'The Life of P...   \n3   {u'album_type': None, u'name': u'The Life of P...   \n4   {u'album_type': None, u'name': u'The Life of P...   \n5   {u'album_type': None, u'name': u'The Life of P...   \n6   {u'album_type': None, u'name': u'The Life of P...   \n7   {u'album_type': None, u'name': u'The Life of P...   \n8   {u'album_type': None, u'name': u'The Life of P...   \n9   {u'album_type': None, u'name': u'The Life of P...   \n10  {u'album_type': None, u'name': u'The Life of P...   \n11  {u'album_type': None, u'name': u'The Life of P...   \n12  {u'album_type': None, u'name': u'The Life of P...   \n13  {u'album_type': None, u'name': u'The Life of P...   \n14  {u'album_type': None, u'name': u'The Life of P...   \n15  {u'album_type': None, u'name': u'The Life of P...   \n16  {u'album_type': None, u'name': u'The Life of P...   \n17  {u'album_type': None, u'name': u'The Life of P...   \n\n                                              artists available_markets  \\\n0   [{u'name': u'Kanye West', u'external_urls': {}...                []   \n1   [{u'name': u'Kanye West', u'external_urls': {}...                []   \n2   [{u'name': u'Kanye West', u'external_urls': {}...                []   \n3   [{u'name': u'Kanye West', u'external_urls': {}...                []   \n4   [{u'name': u'Kanye West', u'external_urls': {}...                []   \n5   [{u'name': u'Kanye West', u'external_urls': {}...                []   \n6   [{u'name': u'Kanye West', u'external_urls': {}...                []   \n7   [{u'name': u'Kanye West', u'external_urls': {}...                []   \n8   [{u'name': u'Kanye West', u'external_urls': {}...                []   \n9   [{u'name': u'Kanye West', u'external_urls': {}...                []   \n10  [{u'name': u'Kanye West', u'external_urls': {}...                []   \n11  [{u'name': u'Kanye West', u'external_urls': {}...                []   \n12  [{u'name': u'Kanye West', u'external_urls': {}...                []   \n13  [{u'name': u'Kanye West', u'external_urls': {}...                []   \n14  [{u'name': u'Kanye West', u'external_urls': {}...                []   \n15  [{u'name': u'Kanye West', u'external_urls': {}...                []   \n16  [{u'name': u'Kanye West', u'external_urls': {}...                []   \n17  [{u'name': u'Kanye West', u'external_urls': {}...                []   \n\n    disc_number  duration_ms  explicit external_ids external_urls  href    id  \\\n0             0       311000     False           {}            {}  None  None   \n1             0       132000     False           {}            {}  None  None   \n2             0       125000     False           {}            {}  None  None   \n3             0       188000     False           {}            {}  None  None   \n4             0       151000     False           {}            {}  None  None   \n5             0       128000     False           {}            {}  None  None   \n6             0       194000     False           {}            {}  None  None   \n7             0       119000     False           {}            {}  None  None   \n8             0        43000     False           {}            {}  None  None   \n9             0       176000     False           {}            {}  None  None   \n10            0       229000     False           {}            {}  None  None   \n11            0       243000     False           {}            {}  None  None   \n12            0       231000     False           {}            {}  None  None   \n13            0        54000     False           {}            {}  None  None   \n14            0       316000     False           {}            {}  None  None   \n15            0       363000     False           {}            {}  None  None   \n16            0       194000     False           {}            {}  None  None   \n17            0       188000     False           {}            {}  None  None   \n\n                             name  popularity preview_url  track_number  \\\n0                 Ultralight Beam           0        None             0   \n1   Father Stretch My Hands Pt. 1           0        None             0   \n2                           Pt. 2           0        None             0   \n3                          Famous           0        None             0   \n4                        Feedback           0        None             0   \n5                      Low Lights           0        None             0   \n6                      Highlights           0        None             0   \n7                     Freestyle 4           0        None             0   \n8                    I Love Kanye           0        None             0   \n9                           Waves           0        None             0   \n10                            FML           0        None             0   \n11                   Real Friends           0        None             0   \n12                         Wolves           0        None             0   \n13     Silver Surfer Intermission           0        None             0   \n14                       30 Hours           0        None             0   \n15          No More Parties In LA           0        None             0   \n16   Facts (Charlie Heat Version)           0        None             0   \n17                           Fade           0        None             0   \n\n     type                                                uri  \n0   track  spotify:local:Kanye+West:The+Life+of+Pablo:Ult...  \n1   track  spotify:local:Kanye+West:The+Life+of+Pablo:Fat...  \n2   track  spotify:local:Kanye+West:The+Life+of+Pablo:Pt....  \n3   track  spotify:local:Kanye+West:The+Life+of+Pablo:Fam...  \n4   track  spotify:local:Kanye+West:The+Life+of+Pablo:Fee...  \n5   track  spotify:local:Kanye+West:The+Life+of+Pablo:Low...  \n6   track  spotify:local:Kanye+West:The+Life+of+Pablo:Hig...  \n7   track  spotify:local:Kanye+West:The+Life+of+Pablo:Fre...  \n8   track  spotify:local:Kanye+West:The+Life+of+Pablo:I+L...  \n9   track  spotify:local:Kanye+West:The+Life+of+Pablo:Wav...  \n10  track  spotify:local:Kanye+West:The+Life+of+Pablo:FML...  \n11  track  spotify:local:Kanye+West:The+Life+of+Pablo:Rea...  \n12  track  spotify:local:Kanye+West:The+Life+of+Pablo:Wol...  \n13  track  spotify:local:Kanye+West:The+Life+of+Pablo:Sil...  \n14  track  spotify:local:Kanye+West:The+Life+of+Pablo:30+...  \n15  track  spotify:local:Kanye+West:The+Life+of+Pablo:No+...  \n16  track  spotify:local:Kanye+West:The+Life+of+Pablo:Fac...  \n17  track  spotify:local:Kanye+West:The+Life+of+Pablo:Fad...  \n"
     ]
    }
   ],
   "source": [
    "track_info = pandas.DataFrame(df['track'].tolist())\n",
    "print track_info"
   ]
  },
  {
   "cell_type": "code",
   "execution_count": 101,
   "metadata": {
    "collapsed": false
   },
   "outputs": [
    {
     "name": "stdout",
     "output_type": "stream",
     "text": [
      "Empty DataFrame\nColumns: [id, name]\nIndex: []\n"
     ]
    }
   ],
   "source": [
    "tracks = track_info[['id', 'name']]\n",
    "tracks = tracks[tracks['id'].notnull()]"
   ]
  },
  {
   "cell_type": "code",
   "execution_count": 97,
   "metadata": {
    "collapsed": false
   },
   "outputs": [
    {
     "name": "stdout",
     "output_type": "stream",
     "text": [
      "      id                           name\n0   None                Ultralight Beam\n1   None  Father Stretch My Hands Pt. 1\n2   None                          Pt. 2\n3   None                         Famous\n4   None                       Feedback\n5   None                     Low Lights\n6   None                     Highlights\n7   None                    Freestyle 4\n8   None                   I Love Kanye\n9   None                          Waves\n10  None                            FML\n11  None                   Real Friends\n12  None                         Wolves\n13  None     Silver Surfer Intermission\n14  None                       30 Hours\n15  None          No More Parties In LA\n16  None   Facts (Charlie Heat Version)\n17  None                           Fade\n"
     ]
    },
    {
     "ename": "TypeError",
     "evalue": "sequence item 0: expected string, NoneType found",
     "traceback": [
      "\u001b[0;31m\u001b[0m",
      "\u001b[0;31mTypeError\u001b[0mTraceback (most recent call last)",
      "\u001b[0;32m<ipython-input-97-26a3c613c549>\u001b[0m in \u001b[0;36m<module>\u001b[0;34m()\u001b[0m\n\u001b[1;32m      4\u001b[0m \u001b[0;34m\u001b[0m\u001b[0m\n\u001b[1;32m      5\u001b[0m \u001b[0murl\u001b[0m \u001b[0;34m=\u001b[0m \u001b[0;34m'https://api.spotify.com/v1/audio-features'\u001b[0m\u001b[0;34m\u001b[0m\u001b[0m\n\u001b[0;32m----> 6\u001b[0;31m \u001b[0mtracks\u001b[0m \u001b[0;34m=\u001b[0m \u001b[0;34m\",\"\u001b[0m\u001b[0;34m.\u001b[0m\u001b[0mjoin\u001b[0m\u001b[0;34m(\u001b[0m\u001b[0mtracks\u001b[0m\u001b[0;34m[\u001b[0m\u001b[0;34m'id'\u001b[0m\u001b[0;34m]\u001b[0m\u001b[0;34m)\u001b[0m\u001b[0;34m\u001b[0m\u001b[0m\n\u001b[0m\u001b[1;32m      7\u001b[0m params = {\n\u001b[1;32m      8\u001b[0m     \u001b[0;34m'ids'\u001b[0m\u001b[0;34m:\u001b[0m \u001b[0mtracks\u001b[0m\u001b[0;34m\u001b[0m\u001b[0m\n",
      "\u001b[0;31mTypeError\u001b[0m: sequence item 0: expected string, NoneType found"
     ],
     "output_type": "error"
    }
   ],
   "source": [
    "print tracks\n",
    "artists = track_info[['artists']].apply(lambda x: x[0][0]['name'], 1)\n",
    "tracks.loc[:, 'artist'] = artists\n",
    "\n",
    "url = 'https://api.spotify.com/v1/audio-features'\n",
    "tracks = \",\".join(tracks['id'])\n",
    "params = {\n",
    "    'ids': tracks\n",
    "}\n",
    "data = requests.get(url, params=params, headers=header)\n",
    "feature_data = pandas.DataFrame(json.loads(data.text)['audio_features'])\n",
    "print feature_data\n"
   ]
  },
  {
   "cell_type": "code",
   "execution_count": 78,
   "metadata": {},
   "outputs": [],
   "source": [
    "track_features.loc[:, 'playlist_name'] = playlist_name\n",
    "track_features.loc[:, 'playlist_id'] = playlist_id\n",
    "track_features.loc[:, 'user_id'] = user_id\n",
    "track_features = track_features.rename(columns={'id': 'track_id'})\n",
    "track_features.to_csv('/Users/jasonjea/playlist-project/playlist_track_data.txt', sep='\\t')"
   ]
  },
  {
   "cell_type": "code",
   "execution_count": null,
   "metadata": {},
   "outputs": [],
   "source": []
  }
 ],
 "metadata": {
  "kernelspec": {
   "display_name": "Python 2",
   "language": "python",
   "name": "python2"
  },
  "language_info": {
   "codemirror_mode": {
    "name": "ipython",
    "version": 2
   },
   "file_extension": ".py",
   "mimetype": "text/x-python",
   "name": "python",
   "nbconvert_exporter": "python",
   "pygments_lexer": "ipython2",
   "version": "2.7.6"
  }
 },
 "nbformat": 4,
 "nbformat_minor": 0
}
